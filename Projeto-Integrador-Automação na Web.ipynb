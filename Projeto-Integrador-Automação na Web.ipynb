{
 "cells": [
  {
   "cell_type": "markdown",
   "id": "80635f75",
   "metadata": {},
   "source": [
    "### Projeto Integrador - Automação na WEB - Laboratório de Programação"
   ]
  },
  {
   "cell_type": "markdown",
   "id": "85376066",
   "metadata": {},
   "source": [
    "- Realizar a busca de um produto no site do Buscapé.\n",
    "- Armazenar as informações dos produtos.\n",
    "- Gerar excel com os resultados.\n",
    "- Enviar um e-mail para a aréa de compras."
   ]
  },
  {
   "cell_type": "markdown",
   "id": "f0599872",
   "metadata": {},
   "source": [
    "### Importando as bibliotecas"
   ]
  },
  {
   "cell_type": "code",
   "execution_count": 1,
   "id": "5adc36c2",
   "metadata": {},
   "outputs": [],
   "source": [
    "import pandas as pd\n",
    "from selenium import webdriver\n",
    "from selenium.webdriver.chrome.service import Service\n",
    "from selenium.webdriver.common.by import By\n",
    "from selenium.webdriver.common.keys import Keys\n",
    "import time\n",
    "import pathlib\n",
    "import win32com.client as win32"
   ]
  },
  {
   "cell_type": "markdown",
   "id": "85c3e2f9",
   "metadata": {},
   "source": [
    "### Informações para a busca"
   ]
  },
  {
   "cell_type": "code",
   "execution_count": 2,
   "id": "910901cf",
   "metadata": {},
   "outputs": [
    {
     "data": {
      "text/html": [
       "<div>\n",
       "<style scoped>\n",
       "    .dataframe tbody tr th:only-of-type {\n",
       "        vertical-align: middle;\n",
       "    }\n",
       "\n",
       "    .dataframe tbody tr th {\n",
       "        vertical-align: top;\n",
       "    }\n",
       "\n",
       "    .dataframe thead th {\n",
       "        text-align: right;\n",
       "    }\n",
       "</style>\n",
       "<table border=\"1\" class=\"dataframe\">\n",
       "  <thead>\n",
       "    <tr style=\"text-align: right;\">\n",
       "      <th></th>\n",
       "      <th>Nome</th>\n",
       "      <th>Termos banidos</th>\n",
       "      <th>Preço mínimo</th>\n",
       "      <th>Preço máximo</th>\n",
       "    </tr>\n",
       "  </thead>\n",
       "  <tbody>\n",
       "    <tr>\n",
       "      <th>0</th>\n",
       "      <td>iphone 12 64gb</td>\n",
       "      <td>mini watch</td>\n",
       "      <td>3000</td>\n",
       "      <td>3500</td>\n",
       "    </tr>\n",
       "    <tr>\n",
       "      <th>1</th>\n",
       "      <td>rtx 3060</td>\n",
       "      <td>zota galax</td>\n",
       "      <td>4000</td>\n",
       "      <td>4500</td>\n",
       "    </tr>\n",
       "  </tbody>\n",
       "</table>\n",
       "</div>"
      ],
      "text/plain": [
       "             Nome Termos banidos  Preço mínimo  Preço máximo\n",
       "0  iphone 12 64gb     mini watch          3000          3500\n",
       "1        rtx 3060     zota galax          4000          4500"
      ]
     },
     "metadata": {},
     "output_type": "display_data"
    }
   ],
   "source": [
    "# Analisando os dados de referencia\n",
    "info = pd.read_excel(r'C:\\Users\\gugag\\Downloads\\buscas.xlsx')\n",
    "display(info)"
   ]
  },
  {
   "cell_type": "markdown",
   "id": "1dcb447f",
   "metadata": {},
   "source": [
    "### Abrindo o navegador e realizando a busca"
   ]
  },
  {
   "cell_type": "code",
   "execution_count": 3,
   "id": "d0172f1a",
   "metadata": {},
   "outputs": [],
   "source": [
    "service = Service()\n",
    "options = webdriver.ChromeOptions()\n",
    "driver = webdriver.Chrome(service=service, options=options)"
   ]
  },
  {
   "cell_type": "code",
   "execution_count": 4,
   "id": "af0af197",
   "metadata": {},
   "outputs": [],
   "source": [
    "# Buscar os preços no buscapé\n",
    "driver.get(r'https://www.buscape.com.br/?og=19220&og=19220&gclid=EAIaIQobChMI6ce804q_gAMVmDnUAR3IsgbYEAAYASAAEgJx1_D_BwE')"
   ]
  },
  {
   "cell_type": "code",
   "execution_count": 5,
   "id": "a3f2742a",
   "metadata": {},
   "outputs": [],
   "source": [
    "# buscando a placa de video\n",
    "driver.find_element(By.XPATH, '//*[@id=\"new-header\"]/div[1]/div/div/div[3]/div/div/div[2]/div/div[1]/input').send_keys('placa trx 3060')\n",
    "driver.find_element(By.XPATH, '//*[@id=\"new-header\"]/div[1]/div/div/div[3]/div/div/div[2]/div/div[1]/input').send_keys(Keys.ENTER)\n",
    "#driver.find_element(By.XPATH, '/html/body/c-wiz[1]/div/div/c-wiz/form/div[2]/div[1]/input').clear()"
   ]
  },
  {
   "cell_type": "code",
   "execution_count": 6,
   "id": "a8c96883",
   "metadata": {},
   "outputs": [],
   "source": [
    "# Expandido a janela\n",
    "driver.maximize_window()"
   ]
  },
  {
   "cell_type": "code",
   "execution_count": 7,
   "id": "1177eeb9",
   "metadata": {},
   "outputs": [
    {
     "name": "stdout",
     "output_type": "stream",
     "text": [
      "Placa de Video NVIDIA GeForce RTX 3060 12 GB GDDR6 192 Bits Galax 36NOL7MD1VOC R$ 1.639,99 https://www.buscape.com.br/placa-de-video/placa-de-video-nvidia-geforce-rtx-3060-12-gb-gddr6-192-bits-galax-36nol7md1voc?_lc=88&searchterm=placa%20trx%203060\n",
      "Placa de Video GeForce RTX 3060 12GB GDDR6 MSI Ventus 2X OC Ray Tracing R$ 1.899,99 https://www.buscape.com.br/placa-de-video/placa-de-video-geforce-rtx-3060-12gb-gddr6-msi-ventus-2x-oc-ray-tracing?_lc=88&searchterm=placa%20trx%203060\n",
      "Placa de Video NVIDIA GeForce RTX 3060 12 GB GDDR6 192 Bits Asus TUF-RTX3060-O12G-GAMING R$ 2.638,38 https://www.buscape.com.br/placa-de-video/placa-de-video-nvidia-geforce-rtx-3060-12-gb-gddr6-192-bits-asus-tuf-rtx3060-o12g-gaming?_lc=88&searchterm=placa%20trx%203060\n",
      "Placa de Video NVIDIA GeForce RTX 3060 12 GB GDDR6 192 Bits Gainward NE63060019K9-190AU R$ 2.245,00 https://www.buscape.com.br/placa-de-video/placa-de-video-nvidia-geforce-rtx-3060-12-gb-gddr6-192-bits-gainward-ne63060019k9-190au?_lc=88&searchterm=placa%20trx%203060\n",
      "Placa Vídeo Msi Geforce Rtx 3060 12Gb Ventus 2X Oc Lhr Gddr6 R$ 2.365,80 https://www.buscape.com.br/placa-de-video/placa-video-msi-geforce-rtx-3060-12gb-ventus-2x-oc-lhr-gddr6?_lc=88&searchterm=placa%20trx%203060\n",
      "Placa de Video NVIDIA GeForce RTX 3060 12 GB GDDR6 192 Bits Palit NE63060019K9-190AD R$ 2.394,00 https://www.buscape.com.br/placa-de-video/placa-de-video-nvidia-geforce-rtx-3060-12-gb-gddr6-192-bits-palit-ne63060019k9-190ad?_lc=88&searchterm=placa%20trx%203060\n",
      "Placa de Video iGame GeForce RTX 3060 Mini 192bit 12GB R$ 2.469,05 https://www.buscape.com.br/placa-de-video/placa-de-video-igame-geforce-rtx-3060-mini-192bit-12gb?_lc=88&searchterm=placa%20trx%203060\n",
      "Placa de Vídeo RTX 3060 Zotac NVIDIA GeForce 12GB GDDR6 192 Bits - A30600P-10M R$ 2.069,90 https://www.buscape.com.br/placa-de-video/placa-de-video-rtx-3060-zotac-nvidia-geforce-12gb-gddr6-192-bits-a30600p-10m?_lc=88&searchterm=placa%20trx%203060\n",
      "Placa de Video Zotac Geforce RTX 3060 12GB 192BITS - ZT-A30600E-10M R$ 2.836,35 https://www.buscape.com.br/placa-de-video/placa-de-video-zotac-geforce-rtx-3060-12gb-192bits-zt-a30600e-10m?_lc=88&searchterm=placa%20trx%203060\n",
      "Placa de Video ASUS Geforce RTX 3060 12GB GDDR6 192 BITS LHR * - DUAL-RTX3060-O12G-V2 R$ 3.012,09 https://www.buscape.com.br/placa-de-video/placa-de-video-asus-geforce-rtx-3060-12gb-gddr6-192-bits-lhr-dual-rtx3060-o12g-v2?_lc=88&searchterm=placa%20trx%203060\n",
      "Placa de Vídeo RTX 3060 TI, 8GB, GDDR6, 256bit, GPU NVIDIA, 3x DP, 1x HDMI, PCI-E 4.0x16 R$ 2.589,00 https://www.buscape.com.br/lead?oid=1364372940&channel=86&index=2&searchterm=placa%20trx%203060\n",
      "Placa de Video RTX 3060 Palit NVIDIA GeForce, 12GB GDDR6, RGB, DLSS, G-Sync, Ray Tracing - NE63060019K9-190AD R$ 1.659,99 https://www.buscape.com.br/lead?oid=1314430703&channel=86&index=3&searchterm=placa%20trx%203060\n",
      "Placa de Vídeo INNO3D NVIDIA GeForce RTX 3060 TWIN X2, 8GB, GDDR6, 128-bit R$ 1.853,87 https://www.buscape.com.br/lead?oid=1352021946&channel=86&index=13&searchterm=placa%20trx%203060\n",
      "GIGABYTE Placa de vídeo GeForce RTX 3060 Gaming OC 12G (REV2.0), 3X ventiladores WINDFORCE 12GB 192-bit GDDR6, GV-N3060GAMING OC-12GD REV2.0 R$ 2.760,42 https://www.buscape.com.br/lead?oid=546338771&channel=86&index=1&searchterm=placa%20trx%203060\n",
      "Placa de video asus geforce rtx 3060 oc edition 12gb ddr6 192 bits - tuf-rtx3060-o12g-gaming R$ 5.590,00 https://www.buscape.com.br/lead?oid=1050819551&channel=86&index=2&searchterm=placa%20trx%203060\n",
      "Placa De Vídeo Geforce Galax Rtx 3060 12gb Gddr6 1-Click OC Ray Tracin R$ 2.014,80 https://www.buscape.com.br/lead?oid=1371107961&channel=86&index=3&searchterm=placa%20trx%203060\n",
      "Placa de Vídeo INNO3D NVIDIA GeForce RTX 3060 TWIN X2 OC, 8GB, GDDR6, 128-bit R$ 1.999,88 https://www.buscape.com.br/lead?oid=1352022403&channel=86&index=4&searchterm=placa%20trx%203060\n",
      "Placa de Vídeo msi nvidia GeForce gtx 1650 Ventus xs oc 4GB GDDR6 128Bit 912-V809-3060 R$ 1.111,00 https://www.buscape.com.br/lead?oid=1005726467&channel=86&index=5&searchterm=placa%20trx%203060\n",
      "PLACA DE VIDEO MSI GEFORCE RTX 3060 TI TWIN FAN 8GB OC LHR GDDR6-912-V809-3879 R$ 5.066,63 https://www.buscape.com.br/lead?oid=975610840&channel=86&index=6&searchterm=placa%20trx%203060\n",
      "Placa de Video RTX 3060 8GB 1-CLICK OC GDDR6 128BITS GALAX 36NSL8MD6OCC R$ 1.999,00 https://www.buscape.com.br/lead?oid=968006111&channel=86&index=7&searchterm=placa%20trx%203060\n",
      "Placa de Vídeo Asus GeForce RTX 3060 Ti 8GB - GDDR6 256 bits TUF Gamin R$ 8.981,99 https://www.buscape.com.br/lead?oid=1368474544&channel=86&index=8&searchterm=placa%20trx%203060\n",
      "PLACA DE VIDEO INNO3D GEFORCE RTX 3060 TWIN X2 12GB GDDR6 192-BIT N30602-12D6-119032AH – INNO3D R$ 2.524,90 https://www.buscape.com.br/lead?oid=1129348237&channel=86&index=9&searchterm=placa%20trx%203060\n",
      "Placa de Vídeo INNO3D NVIDIA GeForce RTX 3060 TWIN X2 OC, 12GB, GDDR6, 192-bit R$ 2.322,03 https://www.buscape.com.br/lead?oid=1349902103&channel=86&index=10&searchterm=placa%20trx%203060\n",
      "Placa De Vídeo Asus Geforce Rtx 3060 Ti 8Gb - Gddr6 256 Bits Tuf Gamin R$ 8.981,99 https://www.buscape.com.br/lead?oid=1074049263&channel=86&index=11&searchterm=placa%20trx%203060\n"
     ]
    }
   ],
   "source": [
    "lista_precos = []\n",
    "lista_nomes = []\n",
    "lista_links = []\n",
    "# Pegando o nome, preco e link ao mesmo tempo.\n",
    "listas_resultados = driver.find_elements(By.CLASS_NAME, 'ProductCard_ProductCard_Inner__gapsh')\n",
    "\n",
    "for resultado in listas_resultados:\n",
    "    preco = resultado.find_element(By.CLASS_NAME, 'Text_MobileHeadingS__HEz7L').text\n",
    "    nome = resultado.find_element(By.CLASS_NAME, 'Text_DesktopLabelSAtLarge__wWsED').text\n",
    "    link = resultado.get_attribute('href')\n",
    "    lista_precos.append(preco)\n",
    "    lista_nomes.append(nome)\n",
    "    lista_links.append(link)\n",
    "        \n",
    "    print(nome, preco, link)\n",
    "\n",
    "driver.quit()"
   ]
  },
  {
   "cell_type": "code",
   "execution_count": 8,
   "id": "adec66ee",
   "metadata": {},
   "outputs": [
    {
     "name": "stdout",
     "output_type": "stream",
     "text": [
      "24\n",
      "24\n",
      "24\n"
     ]
    }
   ],
   "source": [
    "## Apenas conferencia do tamanho das colunas\n",
    "print(len(lista_nomes))\n",
    "print(len(lista_links))\n",
    "print(len(lista_precos))"
   ]
  },
  {
   "cell_type": "markdown",
   "id": "13700fc2",
   "metadata": {},
   "source": [
    "### Tratamento e armazenamento dos resultados/valores obtidos"
   ]
  },
  {
   "cell_type": "code",
   "execution_count": 9,
   "id": "09eead43",
   "metadata": {},
   "outputs": [
    {
     "name": "stdout",
     "output_type": "stream",
     "text": [
      "[1639.99, 1899.99, 2638.38, 2245.0, 2365.8, 2394.0, 2469.05, 2069.9, 2836.35, 3012.09, 2589.0, 1659.99, 1853.87, 2760.42, 5590.0, 2014.8, 1999.88, 1111.0, 5066.63, 1999.0, 8981.99, 2524.9, 2322.03, 8981.99]\n"
     ]
    }
   ],
   "source": [
    "# Tratando os valores:\n",
    "nova_lista_precos = []\n",
    "for valor in lista_precos:\n",
    "    valor = valor.replace('R$ ', '')\n",
    "    valor = valor.replace('.', '')\n",
    "    valor = valor.replace(',', '.')\n",
    "    valor = float(valor)\n",
    "    nova_lista_precos.append(valor)\n",
    "print(nova_lista_precos)"
   ]
  },
  {
   "cell_type": "code",
   "execution_count": 10,
   "id": "500ed19b",
   "metadata": {},
   "outputs": [
    {
     "data": {
      "text/html": [
       "<div>\n",
       "<style scoped>\n",
       "    .dataframe tbody tr th:only-of-type {\n",
       "        vertical-align: middle;\n",
       "    }\n",
       "\n",
       "    .dataframe tbody tr th {\n",
       "        vertical-align: top;\n",
       "    }\n",
       "\n",
       "    .dataframe thead th {\n",
       "        text-align: right;\n",
       "    }\n",
       "</style>\n",
       "<table border=\"1\" class=\"dataframe\">\n",
       "  <thead>\n",
       "    <tr style=\"text-align: right;\">\n",
       "      <th></th>\n",
       "      <th>Nome</th>\n",
       "      <th>Preco</th>\n",
       "      <th>Links</th>\n",
       "    </tr>\n",
       "  </thead>\n",
       "  <tbody>\n",
       "    <tr>\n",
       "      <th>0</th>\n",
       "      <td>Placa de Video NVIDIA GeForce RTX 3060 12 GB G...</td>\n",
       "      <td>1639.99</td>\n",
       "      <td>https://www.buscape.com.br/placa-de-video/plac...</td>\n",
       "    </tr>\n",
       "    <tr>\n",
       "      <th>1</th>\n",
       "      <td>Placa de Video GeForce RTX 3060 12GB GDDR6 MSI...</td>\n",
       "      <td>1899.99</td>\n",
       "      <td>https://www.buscape.com.br/placa-de-video/plac...</td>\n",
       "    </tr>\n",
       "    <tr>\n",
       "      <th>2</th>\n",
       "      <td>Placa de Video NVIDIA GeForce RTX 3060 12 GB G...</td>\n",
       "      <td>2638.38</td>\n",
       "      <td>https://www.buscape.com.br/placa-de-video/plac...</td>\n",
       "    </tr>\n",
       "    <tr>\n",
       "      <th>3</th>\n",
       "      <td>Placa de Video NVIDIA GeForce RTX 3060 12 GB G...</td>\n",
       "      <td>2245.00</td>\n",
       "      <td>https://www.buscape.com.br/placa-de-video/plac...</td>\n",
       "    </tr>\n",
       "    <tr>\n",
       "      <th>4</th>\n",
       "      <td>Placa Vídeo Msi Geforce Rtx 3060 12Gb Ventus 2...</td>\n",
       "      <td>2365.80</td>\n",
       "      <td>https://www.buscape.com.br/placa-de-video/plac...</td>\n",
       "    </tr>\n",
       "    <tr>\n",
       "      <th>5</th>\n",
       "      <td>Placa de Video NVIDIA GeForce RTX 3060 12 GB G...</td>\n",
       "      <td>2394.00</td>\n",
       "      <td>https://www.buscape.com.br/placa-de-video/plac...</td>\n",
       "    </tr>\n",
       "    <tr>\n",
       "      <th>6</th>\n",
       "      <td>Placa de Video iGame GeForce RTX 3060 Mini 192...</td>\n",
       "      <td>2469.05</td>\n",
       "      <td>https://www.buscape.com.br/placa-de-video/plac...</td>\n",
       "    </tr>\n",
       "    <tr>\n",
       "      <th>7</th>\n",
       "      <td>Placa de Vídeo RTX 3060 Zotac NVIDIA GeForce 1...</td>\n",
       "      <td>2069.90</td>\n",
       "      <td>https://www.buscape.com.br/placa-de-video/plac...</td>\n",
       "    </tr>\n",
       "    <tr>\n",
       "      <th>8</th>\n",
       "      <td>Placa de Video Zotac Geforce RTX 3060 12GB 192...</td>\n",
       "      <td>2836.35</td>\n",
       "      <td>https://www.buscape.com.br/placa-de-video/plac...</td>\n",
       "    </tr>\n",
       "    <tr>\n",
       "      <th>9</th>\n",
       "      <td>Placa de Video ASUS Geforce RTX 3060 12GB GDDR...</td>\n",
       "      <td>3012.09</td>\n",
       "      <td>https://www.buscape.com.br/placa-de-video/plac...</td>\n",
       "    </tr>\n",
       "    <tr>\n",
       "      <th>10</th>\n",
       "      <td>Placa de Vídeo RTX 3060 TI, 8GB, GDDR6, 256bit...</td>\n",
       "      <td>2589.00</td>\n",
       "      <td>https://www.buscape.com.br/lead?oid=1364372940...</td>\n",
       "    </tr>\n",
       "    <tr>\n",
       "      <th>11</th>\n",
       "      <td>Placa de Video RTX 3060 Palit NVIDIA GeForce, ...</td>\n",
       "      <td>1659.99</td>\n",
       "      <td>https://www.buscape.com.br/lead?oid=1314430703...</td>\n",
       "    </tr>\n",
       "    <tr>\n",
       "      <th>12</th>\n",
       "      <td>Placa de Vídeo INNO3D NVIDIA GeForce RTX 3060 ...</td>\n",
       "      <td>1853.87</td>\n",
       "      <td>https://www.buscape.com.br/lead?oid=1352021946...</td>\n",
       "    </tr>\n",
       "    <tr>\n",
       "      <th>13</th>\n",
       "      <td>GIGABYTE Placa de vídeo GeForce RTX 3060 Gamin...</td>\n",
       "      <td>2760.42</td>\n",
       "      <td>https://www.buscape.com.br/lead?oid=546338771&amp;...</td>\n",
       "    </tr>\n",
       "    <tr>\n",
       "      <th>14</th>\n",
       "      <td>Placa de video asus geforce rtx 3060 oc editio...</td>\n",
       "      <td>5590.00</td>\n",
       "      <td>https://www.buscape.com.br/lead?oid=1050819551...</td>\n",
       "    </tr>\n",
       "    <tr>\n",
       "      <th>15</th>\n",
       "      <td>Placa De Vídeo Geforce Galax Rtx 3060 12gb Gdd...</td>\n",
       "      <td>2014.80</td>\n",
       "      <td>https://www.buscape.com.br/lead?oid=1371107961...</td>\n",
       "    </tr>\n",
       "    <tr>\n",
       "      <th>16</th>\n",
       "      <td>Placa de Vídeo INNO3D NVIDIA GeForce RTX 3060 ...</td>\n",
       "      <td>1999.88</td>\n",
       "      <td>https://www.buscape.com.br/lead?oid=1352022403...</td>\n",
       "    </tr>\n",
       "    <tr>\n",
       "      <th>17</th>\n",
       "      <td>Placa de Vídeo msi nvidia GeForce gtx 1650 Ven...</td>\n",
       "      <td>1111.00</td>\n",
       "      <td>https://www.buscape.com.br/lead?oid=1005726467...</td>\n",
       "    </tr>\n",
       "    <tr>\n",
       "      <th>18</th>\n",
       "      <td>PLACA DE VIDEO MSI GEFORCE RTX 3060 TI TWIN FA...</td>\n",
       "      <td>5066.63</td>\n",
       "      <td>https://www.buscape.com.br/lead?oid=975610840&amp;...</td>\n",
       "    </tr>\n",
       "    <tr>\n",
       "      <th>19</th>\n",
       "      <td>Placa de Video RTX 3060 8GB 1-CLICK OC GDDR6 1...</td>\n",
       "      <td>1999.00</td>\n",
       "      <td>https://www.buscape.com.br/lead?oid=968006111&amp;...</td>\n",
       "    </tr>\n",
       "    <tr>\n",
       "      <th>20</th>\n",
       "      <td>Placa de Vídeo Asus GeForce RTX 3060 Ti 8GB - ...</td>\n",
       "      <td>8981.99</td>\n",
       "      <td>https://www.buscape.com.br/lead?oid=1368474544...</td>\n",
       "    </tr>\n",
       "    <tr>\n",
       "      <th>21</th>\n",
       "      <td>PLACA DE VIDEO INNO3D GEFORCE RTX 3060 TWIN X2...</td>\n",
       "      <td>2524.90</td>\n",
       "      <td>https://www.buscape.com.br/lead?oid=1129348237...</td>\n",
       "    </tr>\n",
       "    <tr>\n",
       "      <th>22</th>\n",
       "      <td>Placa de Vídeo INNO3D NVIDIA GeForce RTX 3060 ...</td>\n",
       "      <td>2322.03</td>\n",
       "      <td>https://www.buscape.com.br/lead?oid=1349902103...</td>\n",
       "    </tr>\n",
       "    <tr>\n",
       "      <th>23</th>\n",
       "      <td>Placa De Vídeo Asus Geforce Rtx 3060 Ti 8Gb - ...</td>\n",
       "      <td>8981.99</td>\n",
       "      <td>https://www.buscape.com.br/lead?oid=1074049263...</td>\n",
       "    </tr>\n",
       "  </tbody>\n",
       "</table>\n",
       "</div>"
      ],
      "text/plain": [
       "                                                 Nome    Preco  \\\n",
       "0   Placa de Video NVIDIA GeForce RTX 3060 12 GB G...  1639.99   \n",
       "1   Placa de Video GeForce RTX 3060 12GB GDDR6 MSI...  1899.99   \n",
       "2   Placa de Video NVIDIA GeForce RTX 3060 12 GB G...  2638.38   \n",
       "3   Placa de Video NVIDIA GeForce RTX 3060 12 GB G...  2245.00   \n",
       "4   Placa Vídeo Msi Geforce Rtx 3060 12Gb Ventus 2...  2365.80   \n",
       "5   Placa de Video NVIDIA GeForce RTX 3060 12 GB G...  2394.00   \n",
       "6   Placa de Video iGame GeForce RTX 3060 Mini 192...  2469.05   \n",
       "7   Placa de Vídeo RTX 3060 Zotac NVIDIA GeForce 1...  2069.90   \n",
       "8   Placa de Video Zotac Geforce RTX 3060 12GB 192...  2836.35   \n",
       "9   Placa de Video ASUS Geforce RTX 3060 12GB GDDR...  3012.09   \n",
       "10  Placa de Vídeo RTX 3060 TI, 8GB, GDDR6, 256bit...  2589.00   \n",
       "11  Placa de Video RTX 3060 Palit NVIDIA GeForce, ...  1659.99   \n",
       "12  Placa de Vídeo INNO3D NVIDIA GeForce RTX 3060 ...  1853.87   \n",
       "13  GIGABYTE Placa de vídeo GeForce RTX 3060 Gamin...  2760.42   \n",
       "14  Placa de video asus geforce rtx 3060 oc editio...  5590.00   \n",
       "15  Placa De Vídeo Geforce Galax Rtx 3060 12gb Gdd...  2014.80   \n",
       "16  Placa de Vídeo INNO3D NVIDIA GeForce RTX 3060 ...  1999.88   \n",
       "17  Placa de Vídeo msi nvidia GeForce gtx 1650 Ven...  1111.00   \n",
       "18  PLACA DE VIDEO MSI GEFORCE RTX 3060 TI TWIN FA...  5066.63   \n",
       "19  Placa de Video RTX 3060 8GB 1-CLICK OC GDDR6 1...  1999.00   \n",
       "20  Placa de Vídeo Asus GeForce RTX 3060 Ti 8GB - ...  8981.99   \n",
       "21  PLACA DE VIDEO INNO3D GEFORCE RTX 3060 TWIN X2...  2524.90   \n",
       "22  Placa de Vídeo INNO3D NVIDIA GeForce RTX 3060 ...  2322.03   \n",
       "23  Placa De Vídeo Asus Geforce Rtx 3060 Ti 8Gb - ...  8981.99   \n",
       "\n",
       "                                                Links  \n",
       "0   https://www.buscape.com.br/placa-de-video/plac...  \n",
       "1   https://www.buscape.com.br/placa-de-video/plac...  \n",
       "2   https://www.buscape.com.br/placa-de-video/plac...  \n",
       "3   https://www.buscape.com.br/placa-de-video/plac...  \n",
       "4   https://www.buscape.com.br/placa-de-video/plac...  \n",
       "5   https://www.buscape.com.br/placa-de-video/plac...  \n",
       "6   https://www.buscape.com.br/placa-de-video/plac...  \n",
       "7   https://www.buscape.com.br/placa-de-video/plac...  \n",
       "8   https://www.buscape.com.br/placa-de-video/plac...  \n",
       "9   https://www.buscape.com.br/placa-de-video/plac...  \n",
       "10  https://www.buscape.com.br/lead?oid=1364372940...  \n",
       "11  https://www.buscape.com.br/lead?oid=1314430703...  \n",
       "12  https://www.buscape.com.br/lead?oid=1352021946...  \n",
       "13  https://www.buscape.com.br/lead?oid=546338771&...  \n",
       "14  https://www.buscape.com.br/lead?oid=1050819551...  \n",
       "15  https://www.buscape.com.br/lead?oid=1371107961...  \n",
       "16  https://www.buscape.com.br/lead?oid=1352022403...  \n",
       "17  https://www.buscape.com.br/lead?oid=1005726467...  \n",
       "18  https://www.buscape.com.br/lead?oid=975610840&...  \n",
       "19  https://www.buscape.com.br/lead?oid=968006111&...  \n",
       "20  https://www.buscape.com.br/lead?oid=1368474544...  \n",
       "21  https://www.buscape.com.br/lead?oid=1129348237...  \n",
       "22  https://www.buscape.com.br/lead?oid=1349902103...  \n",
       "23  https://www.buscape.com.br/lead?oid=1074049263...  "
      ]
     },
     "metadata": {},
     "output_type": "display_data"
    }
   ],
   "source": [
    "# Transformando a lista em um arquivo do excel\n",
    "base_geral_placa = pd.DataFrame((zip(lista_nomes, nova_lista_precos, lista_links)), columns = ['Nome', 'Preco', 'Links'])\n",
    "display(base_geral_placa)"
   ]
  },
  {
   "cell_type": "code",
   "execution_count": 11,
   "id": "ee4a14b2",
   "metadata": {},
   "outputs": [],
   "source": [
    "#Validação de Valores\n",
    "preco_minimo_placa = 1650\n",
    "preco_maximo_placa = 4000"
   ]
  },
  {
   "cell_type": "code",
   "execution_count": 12,
   "id": "e77554bb",
   "metadata": {
    "scrolled": true
   },
   "outputs": [],
   "source": [
    "# Excluindo valores\n",
    "for i, valor in enumerate (base_geral_placa['Preco']):\n",
    "    if valor > preco_maximo_placa or valor < preco_minimo_placa:\n",
    "        base_geral_placa = base_geral_placa.drop(i)"
   ]
  },
  {
   "cell_type": "code",
   "execution_count": 13,
   "id": "3619bf13",
   "metadata": {},
   "outputs": [],
   "source": [
    "#Exportando para o Excel\n",
    "base_geral_placa.to_excel('Precos_Placa_de_Video_Att.xlsx', index = False)"
   ]
  },
  {
   "cell_type": "markdown",
   "id": "3a3eafd7",
   "metadata": {},
   "source": [
    "### Envio dos dados para o departamento responsável"
   ]
  },
  {
   "cell_type": "code",
   "execution_count": 19,
   "id": "ac966ce1",
   "metadata": {},
   "outputs": [
    {
     "name": "stdout",
     "output_type": "stream",
     "text": [
      "E-mail da Placa de Video Enviado!\n"
     ]
    }
   ],
   "source": [
    "# Enviando e-mail com a planilha das informações - Placa de Vídeo\n",
    "caminho_arquivo = r'C:\\Users\\gugag\\Documents\\Precos_Placa_de_Video_Att.xlsx'\n",
    "outlook = win32.Dispatch('outlook.application')\n",
    "    \n",
    "mail = outlook.CreateItem(0)\n",
    "mail.Recipients.Add('gustavo.santos88@yahoo.com.br')\n",
    "mail.Recipients.Add('ggustavo2v@estudante.unisa.br')\n",
    "mail.CC = 'guga.gugao39@gmail.com'\n",
    "mail.Subject = 'Informações da Placa de Video'\n",
    "\n",
    "mail.HTMLBody = f'''\n",
    "\n",
    "<p>Bom dia, Time de Compras!</p>\n",
    "\n",
    "<p>Estou compartilhando os resultados da busca do produto solicitado!</p>\n",
    "\n",
    "<p> Em anexo a planilha com todos os dados.</p>\n",
    "\n",
    "<p>Qualquer dúvida estou à disposição.</p>\n",
    "<p>Att., Gustavo S. Santos</p>\n",
    "'''\n",
    "\n",
    "mail.Attachments.Add(caminho_arquivo)\n",
    "\n",
    "mail.Send()\n",
    "print('E-mail da Placa de Video Enviado!')"
   ]
  },
  {
   "cell_type": "code",
   "execution_count": null,
   "id": "e991664a",
   "metadata": {},
   "outputs": [],
   "source": []
  }
 ],
 "metadata": {
  "kernelspec": {
   "display_name": "Python 3 (ipykernel)",
   "language": "python",
   "name": "python3"
  },
  "language_info": {
   "codemirror_mode": {
    "name": "ipython",
    "version": 3
   },
   "file_extension": ".py",
   "mimetype": "text/x-python",
   "name": "python",
   "nbconvert_exporter": "python",
   "pygments_lexer": "ipython3",
   "version": "3.9.13"
  }
 },
 "nbformat": 4,
 "nbformat_minor": 5
}
